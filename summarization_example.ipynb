{
 "cells": [
  {
   "cell_type": "code",
   "execution_count": 1,
   "metadata": {
    "scrolled": true
   },
   "outputs": [
    {
     "name": "stdout",
     "output_type": "stream",
     "text": [
      "Collecting transformers\n",
      "  Using cached https://files.pythonhosted.org/packages/b5/d5/c6c23ad75491467a9a84e526ef2364e523d45e2b0fae28a7cbe8689e7e84/transformers-4.8.1-py3-none-any.whl\n",
      "Collecting numpy>=1.17 (from transformers)\n",
      "  Using cached https://files.pythonhosted.org/packages/45/b2/6c7545bb7a38754d63048c7696804a0d947328125d81bf12beaa692c3ae3/numpy-1.19.5-cp36-cp36m-manylinux1_x86_64.whl\n",
      "Collecting huggingface-hub==0.0.12 (from transformers)\n",
      "  Using cached https://files.pythonhosted.org/packages/2f/ee/97e253668fda9b17e968b3f97b2f8e53aa0127e8807d24a547687423fe0b/huggingface_hub-0.0.12-py3-none-any.whl\n",
      "Collecting regex!=2019.12.17 (from transformers)\n",
      "  Using cached https://files.pythonhosted.org/packages/12/29/56cc6b5fa9abe7431b1c39c84dd57ebee42b2e2c1cb784219288d9636ffe/regex-2021.4.4-cp36-cp36m-manylinux1_x86_64.whl\n",
      "Collecting tokenizers<0.11,>=0.10.1 (from transformers)\n",
      "  Using cached https://files.pythonhosted.org/packages/bf/20/3605db440db4f96d5ffd66b231a043ae451ec7e5e4d1a2fb6f20608006c4/tokenizers-0.10.3-cp36-cp36m-manylinux_2_5_x86_64.manylinux1_x86_64.manylinux_2_12_x86_64.manylinux2010_x86_64.whl\n",
      "Collecting importlib-metadata; python_version < \"3.8\" (from transformers)\n",
      "  Using cached https://files.pythonhosted.org/packages/23/5d/f2151217058e7d5c5b4b584bc6052c2ae478c5a36b58a056364351613bfb/importlib_metadata-4.5.0-py3-none-any.whl\n",
      "Collecting sacremoses (from transformers)\n",
      "  Using cached https://files.pythonhosted.org/packages/75/ee/67241dc87f266093c533a2d4d3d69438e57d7a90abb216fa076e7d475d4a/sacremoses-0.0.45-py3-none-any.whl\n",
      "Collecting tqdm>=4.27 (from transformers)\n",
      "  Using cached https://files.pythonhosted.org/packages/b4/20/9f1e974bb4761128fc0d0a32813eaa92827309b1756c4b892d28adfb4415/tqdm-4.61.1-py2.py3-none-any.whl\n",
      "Collecting dataclasses; python_version < \"3.7\" (from transformers)\n",
      "  Using cached https://files.pythonhosted.org/packages/fe/ca/75fac5856ab5cfa51bbbcefa250182e50441074fdc3f803f6e76451fab43/dataclasses-0.8-py3-none-any.whl\n",
      "Collecting packaging (from transformers)\n",
      "  Using cached https://files.pythonhosted.org/packages/3e/89/7ea760b4daa42653ece2380531c90f64788d979110a2ab51049d92f408af/packaging-20.9-py2.py3-none-any.whl\n",
      "Collecting pyyaml (from transformers)\n",
      "  Using cached https://files.pythonhosted.org/packages/7a/5b/bc0b5ab38247bba158504a410112b6c03f153c652734ece1849749e5f518/PyYAML-5.4.1-cp36-cp36m-manylinux1_x86_64.whl\n",
      "Collecting requests (from transformers)\n",
      "  Using cached https://files.pythonhosted.org/packages/29/c1/24814557f1d22c56d50280771a17307e6bf87b70727d975fd6b2ce6b014a/requests-2.25.1-py2.py3-none-any.whl\n",
      "Collecting filelock (from transformers)\n",
      "  Using cached https://files.pythonhosted.org/packages/93/83/71a2ee6158bb9f39a90c0dea1637f81d5eef866e188e1971a1b1ab01a35a/filelock-3.0.12-py3-none-any.whl\n",
      "Collecting typing-extensions (from huggingface-hub==0.0.12->transformers)\n",
      "  Using cached https://files.pythonhosted.org/packages/2e/35/6c4fff5ab443b57116cb1aad46421fb719bed2825664e8fe77d66d99bcbc/typing_extensions-3.10.0.0-py3-none-any.whl\n",
      "Collecting zipp>=0.5 (from importlib-metadata; python_version < \"3.8\"->transformers)\n",
      "  Using cached https://files.pythonhosted.org/packages/0f/8c/715c54e9e34c0c4820f616a913a7de3337d0cd79074dd1bed4dd840f16ae/zipp-3.4.1-py3-none-any.whl\n",
      "Collecting six (from sacremoses->transformers)\n",
      "  Using cached https://files.pythonhosted.org/packages/d9/5a/e7c31adbe875f2abbb91bd84cf2dc52d792b5a01506781dbcf25c91daf11/six-1.16.0-py2.py3-none-any.whl\n",
      "Collecting click (from sacremoses->transformers)\n",
      "  Using cached https://files.pythonhosted.org/packages/76/0a/b6c5f311e32aeb3b406e03c079ade51e905ea630fc19d1262a46249c1c86/click-8.0.1-py3-none-any.whl\n",
      "Collecting joblib (from sacremoses->transformers)\n",
      "  Using cached https://files.pythonhosted.org/packages/55/85/70c6602b078bd9e6f3da4f467047e906525c355a4dacd4f71b97a35d9897/joblib-1.0.1-py3-none-any.whl\n",
      "Collecting pyparsing>=2.0.2 (from packaging->transformers)\n",
      "  Using cached https://files.pythonhosted.org/packages/8a/bb/488841f56197b13700afd5658fc279a2025a39e22449b7cf29864669b15d/pyparsing-2.4.7-py2.py3-none-any.whl\n",
      "Collecting urllib3<1.27,>=1.21.1 (from requests->transformers)\n",
      "  Using cached https://files.pythonhosted.org/packages/5f/64/43575537846896abac0b15c3e5ac678d787a4021e906703f1766bfb8ea11/urllib3-1.26.6-py2.py3-none-any.whl\n",
      "Collecting chardet<5,>=3.0.2 (from requests->transformers)\n",
      "  Using cached https://files.pythonhosted.org/packages/19/c7/fa589626997dd07bd87d9269342ccb74b1720384a4d739a1872bd84fbe68/chardet-4.0.0-py2.py3-none-any.whl\n",
      "Collecting certifi>=2017.4.17 (from requests->transformers)\n",
      "  Using cached https://files.pythonhosted.org/packages/05/1b/0a0dece0e8aa492a6ec9e4ad2fe366b511558cdc73fd3abc82ba7348e875/certifi-2021.5.30-py2.py3-none-any.whl\n",
      "Collecting idna<3,>=2.5 (from requests->transformers)\n",
      "  Using cached https://files.pythonhosted.org/packages/a2/38/928ddce2273eaa564f6f50de919327bf3a00f091b5baba8dfa9460f3a8a8/idna-2.10-py2.py3-none-any.whl\n",
      "Installing collected packages: numpy, zipp, typing-extensions, importlib-metadata, tqdm, pyparsing, packaging, urllib3, chardet, certifi, idna, requests, filelock, huggingface-hub, regex, tokenizers, six, click, joblib, sacremoses, dataclasses, pyyaml, transformers\n",
      "Successfully installed certifi-2021.5.30 chardet-4.0.0 click-8.0.1 dataclasses-0.8 filelock-3.0.12 huggingface-hub-0.0.12 idna-2.10 importlib-metadata-4.5.0 joblib-1.0.1 numpy-1.19.5 packaging-20.9 pyparsing-2.4.7 pyyaml-5.4.1 regex-2021.4.4 requests-2.25.1 sacremoses-0.0.45 six-1.16.0 tokenizers-0.10.3 tqdm-4.61.1 transformers-4.8.1 typing-extensions-3.10.0.0 urllib3-1.26.6 zipp-3.4.1\n"
     ]
    }
   ],
   "source": [
    "!pip3 install transformers"
   ]
  },
  {
   "cell_type": "code",
   "execution_count": 2,
   "metadata": {},
   "outputs": [],
   "source": [
    "from transformers import pipeline, AutoTokenizer, AutoModel"
   ]
  },
  {
   "cell_type": "code",
   "execution_count": 16,
   "metadata": {},
   "outputs": [],
   "source": [
    "# t5 family of models includes t5-small, t5-base, t5-large, t5-3b, t5-11b\n",
    "pipe = pipeline('summarization', \n",
    "                model='t5-small', \n",
    "                tokenizer='t5-small')"
   ]
  },
  {
   "cell_type": "code",
   "execution_count": 17,
   "metadata": {},
   "outputs": [
    {
     "name": "stderr",
     "output_type": "stream",
     "text": [
      "Token indices sequence length is longer than the specified maximum sequence length for this model (711 > 512). Running this sequence through the model will result in indexing errors\n"
     ]
    },
    {
     "name": "stdout",
     "output_type": "stream",
     "text": [
      "Article summary: 'the bank of England began circulating its new £50 bank notes featuring world war II codebreaker Alan Turing on friday . he was hailed a war hero and granted an honor by King George VI at the end of the war for helping to defeat the Nazis . but despite this, he died as a disgraced “criminal” — simply for being gay .'\n"
     ]
    }
   ],
   "source": [
    "# https://www.nbcnews.com/nbc-out/out-news/wwii-codebreaker-alan-turing-becomes-1st-gay-man-british-bank-note-rcna1251\n",
    "article = \"\"\"The Bank of England began circulating its new £50 bank notes featuring World War II codebreaker Alan Turing on Wednesday, which would have been the pioneering math genius’ 109th birthday.\n",
    "\n",
    "Often referred to as the “father of computer science and artificial intelligence,” Turing was hailed a war hero and granted an honor by King George VI at the end of the war for helping to defeat the Nazis. Despite this, however, he died as a disgraced “criminal” — simply for being a gay man. \n",
    "\n",
    "“I’m delighted that Alan Turing features on our new £50 bank note. He was a brilliant scientist whose thinking still shapes our lives today,” Sarah John, Bank of England's chief cashier, told NBC News. “However, his many contributions to society were still not enough to spare him the appalling treatment to which he was subjected simply because he was gay. By placing him on this new £50, we are celebrating his life and his achievements, of which we should all be very proud.” \n",
    "\n",
    "Born in London on June 23, 1912, Turing graduated from the University of Cambridge in 1934. At the start of WWII, he joined the British government’s wartime operation, designing a code-breaking machine known as “Bombe.” Bombe went on to supply the Allied Forces with significant military intelligence, processing, at its peak, 89,000 coded messages per day.\n",
    "\n",
    "At the end of the war, Turing was made an Officer of the Most Excellent Order of the British Empire, an honor granted by the royal family to a selected few for their contribution to science, arts and public service. \n",
    "\n",
    "In the years that followed, Turing carried on working as a computer scientist. His design for the Automatic Computing Engine, or ACE, would have been the first and most advanced computer for his time. But his colleagues at the National Physical Laboratory feared the engineering was too complex and decided to build a much smaller pilot ACE instead. Their competitors at Manchester University consequently won the race, and the disheartened Turing had joined their forces as deputy director. Turing also wrote the first programming manual. \n",
    "\n",
    "“What we really don't realize is how this moment and Turing's vision changed the entire world. Before this, literally nobody in the world had imagined that a single machine could apply countless strings of abstract symbols. Now we know them as programs,” according to David Leslie of the Alan Turing Institute.\n",
    "\n",
    "But being an outstanding computer scientist and a war hero didn’t spare Turing from what some have called a “witch hunt” of gay and bisexual men in the U.K., which led to the imprisonment of thousands of gay men and those suspected of being gay throughout the 1950s.\n",
    "\n",
    "In January 1952, Turing was prosecuted for indecency over his relationship with another man in Manchester. Despite being referred to as a “national asset” during this trial by character witness Hugh Alexander, the head of cryptanalysis at the Government Communications Headquarter, Turing was persecuted. \n",
    "\n",
    "In March of that year, Turing pleaded guilty and, to avoid imprisonment, had to agree to be chemically castrated by taking a hormonal treatment designed to suppress his libido.\n",
    "\"\"\"\n",
    "summary = pipe(article, min_length=5, max_length=100)[0]['summary_text']\n",
    "print('Article summary: \\'{}\\''.format(summary))"
   ]
  },
  {
   "cell_type": "code",
   "execution_count": null,
   "metadata": {},
   "outputs": [],
   "source": [
    "\"\"\"\n",
    "Outputs from various size T5 models are shown below. As the models get larger, they are able to construct more \n",
    "sophisticated internal representations of the data they are working with. In the examples below, we can see how \n",
    "the model is able to generate higher quality summaries when it is bigger. The t5-small summary isn't BAD, but it \n",
    "makes some mistakes. For example, it says the new note was released on Friday. However, the article says the new\n",
    "note was released on a Wednesday. While still a mistake, the model only mixed up the days of the week, not the \n",
    "days of the week and a month, or days of the week and types of fruit. \n",
    "\n",
    "Output from t5-small: 'the bank of England began circulating its new £50 bank notes featuring world war II \n",
    "codebreaker Alan Turing on friday . he was hailed a war hero and granted an honor by King George VI at the end \n",
    "of the war for helping to defeat the Nazis . but despite this, he died as a disgraced “criminal” — simply for \n",
    "being gay .'\n",
    "\n",
    "Output from t5-base: 'the bank of england has released a new £50 bank note featuring world war ii codebreaker \n",
    "Alan Turing . the new note would have been Turing's 109th birthday . however, he died as a disgraced \"criminal\" \n",
    "simply because he was gay .'\n",
    "\n",
    "Output from t5-large: 'the bank of england began circulating its new £50 bank note on his 109th birthday . \n",
    "born in 1912, Turing graduated from the university of cambridge in 1934 . at the start of the war, he joined the \n",
    "government's wartime operation, designing a code-breaking machine . but he died as a disgraced \"criminal\" simply \n",
    "for being gay .'\n",
    "\"\"\""
   ]
  }
 ],
 "metadata": {
  "kernelspec": {
   "display_name": "Python 3",
   "language": "python",
   "name": "python3"
  },
  "language_info": {
   "codemirror_mode": {
    "name": "ipython",
    "version": 3
   },
   "file_extension": ".py",
   "mimetype": "text/x-python",
   "name": "python",
   "nbconvert_exporter": "python",
   "pygments_lexer": "ipython3",
   "version": "3.6.9"
  }
 },
 "nbformat": 4,
 "nbformat_minor": 4
}
